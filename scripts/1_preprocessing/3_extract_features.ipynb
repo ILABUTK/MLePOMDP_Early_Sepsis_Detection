{
 "metadata": {
  "language_info": {
   "codemirror_mode": {
    "name": "ipython",
    "version": 3
   },
   "file_extension": ".py",
   "mimetype": "text/x-python",
   "name": "python",
   "nbconvert_exporter": "python",
   "pygments_lexer": "ipython3",
   "version": "3.9.1"
  },
  "orig_nbformat": 2,
  "kernelspec": {
   "name": "python3",
   "display_name": "Python 3.9.1 64-bit"
  },
  "interpreter": {
   "hash": "ac59ebe37160ed0dfa835113d9b8498d9f09ceb179beaac4002f036b9467c963"
  }
 },
 "nbformat": 4,
 "nbformat_minor": 2,
 "cells": [
  {
   "cell_type": "code",
   "execution_count": null,
   "source": [
    "# import\r\n",
    "import pickle\r\n",
    "import numpy as np\r\n",
    "import pandas as pd\r\n",
    "from scipy import stats as st"
   ],
   "outputs": [],
   "metadata": {}
  },
  {
   "cell_type": "code",
   "execution_count": null,
   "source": [
    "# data diectory, modify before use\r\n",
    "data_dir = \"scripts/1_preprocessing\""
   ],
   "outputs": [],
   "metadata": {}
  },
  {
   "cell_type": "code",
   "execution_count": null,
   "source": [
    "# ==================================================================\r\n",
    "# train data, 1h for sepsis, 6h for nonsep"
   ],
   "outputs": [],
   "metadata": {}
  },
  {
   "cell_type": "code",
   "execution_count": null,
   "source": [
    "# use 1 h data, for sepsis patients\r\n",
    "# load patient ID\r\n",
    "separate_id = pickle.load(open(\r\n",
    "    data_dir + \"/processed_data/ids/1h_ID.pickle\", \"rb\"\r\n",
    "))\r\n",
    "sepsis_id, nonsep_id = separate_id['sepsis'], separate_id['nonsep']\r\n",
    "# combine id\r\n",
    "all_id = sepsis_id"
   ],
   "outputs": [],
   "metadata": {}
  },
  {
   "cell_type": "code",
   "execution_count": null,
   "source": [
    "# empty dataframe\r\n",
    "feature_data = pd.DataFrame()\r\n",
    "# physiological name\r\n",
    "physio_name = [\r\n",
    "    'heartrate', 'respiration', 'noninvasivesystolic', 'noninvasivediastolic', 'noninvasivemean'\r\n",
    "]\r\n",
    "# lab name\r\n",
    "lab_name = [\r\n",
    "    'paO2_FiO2', 'platelets_x_1000', 'total_bilirubin',\r\n",
    "    'urinary_creatinine', 'creatinine', 'HCO3', 'pH', 'paCO2',\r\n",
    "    'direct_bilirubin', 'excess', 'ast', 'bun', 'calcium', 'glucose',\r\n",
    "    'lactate', 'magnesium', 'phosphate', 'potassium', 'hct', 'hgb', 'ptt',\r\n",
    "    'wbc', 'fibrinogen', 'troponin', 'GCS_Score', 'ventilator'\r\n",
    "]\r\n",
    "for k in range(21):\r\n",
    "    # for each patient, same step\r\n",
    "    for p_id in all_id:\r\n",
    "        # load data\r\n",
    "        patient_data = pd.read_csv(\r\n",
    "            data_dir + \"processed_data/2_1_h/{}.csv\".format(p_id),\r\n",
    "            index_col=False\r\n",
    "        )\r\n",
    "        # feature\r\n",
    "        feature = {}\r\n",
    "        # for each vital\r\n",
    "        for c in physio_name:\r\n",
    "            for window in [15, 30, 60]:\r\n",
    "                # data within window\r\n",
    "                window_data = patient_data.loc[\r\n",
    "                    (patient_data['offset'] <= 0) & (patient_data['offset'] >= -window), c\r\n",
    "                ]\r\n",
    "                # extract feature\r\n",
    "                # mean\r\n",
    "                feature['{}-{}-mean'.format(c, window)] = window_data.mean()\r\n",
    "                # max\r\n",
    "                feature['{}-{}-max'.format(c, window)] = window_data.max()\r\n",
    "                # min\r\n",
    "                feature['{}-{}-min'.format(c, window)] = window_data.min()\r\n",
    "                # std\r\n",
    "                feature['{}-{}-std'.format(c, window)] = window_data.std()\r\n",
    "                # kurtosis\r\n",
    "                feature['{}-{}-kurt'.format(c, window)] = window_data.kurtosis()\r\n",
    "                # skewness\r\n",
    "                feature['{}-{}-skew'.format(c, window)] = window_data.skew()\r\n",
    "                # slope\r\n",
    "                feature['{}-{}-slope'.format(c, window)] = st.linregress(\r\n",
    "                    range(-window, 5, 5), window_data.values\r\n",
    "                )[0]\r\n",
    "        # add lab data\r\n",
    "        for l in lab_name:\r\n",
    "            feature[l] = patient_data.loc[patient_data['offset'] == 0, l].values[0]\r\n",
    "        # add patient id\r\n",
    "        feature['patientunitstayid'] = int(p_id)\r\n",
    "        # add label\r\n",
    "        feature['label'] = 1 if p_id in sepsis_id else 0\r\n",
    "        # append data\r\n",
    "        feature_data = feature_data.append(feature, ignore_index=True)"
   ],
   "outputs": [],
   "metadata": {
    "tags": [
     "outputPrepend"
    ]
   }
  },
  {
   "cell_type": "code",
   "execution_count": null,
   "source": [
    "feature_data.shape"
   ],
   "outputs": [],
   "metadata": {}
  },
  {
   "cell_type": "code",
   "execution_count": null,
   "source": [
    "# use 6 h data,for nonsepsis patients\r\n",
    "# load patient ID\r\n",
    "separate_id = pickle.load(open(\r\n",
    "    data_dir + \"/processed_data/ids/6h_ID.pickle\", \"rb\"\r\n",
    "))\r\n",
    "sepsis_id, nonsep_id = separate_id['sepsis'], separate_id['nonsep']\r\n",
    "# combine id\r\n",
    "all_id = np.random.choice(nonsep_id, 4750, False)  # Good: 4320, 7750, find middle ground"
   ],
   "outputs": [],
   "metadata": {}
  },
  {
   "cell_type": "code",
   "execution_count": null,
   "source": [
    "# empty dataframe\r\n",
    "# feature_data = pd.DataFrame()  # pd.read_csv(\"processed_data/3_train/train_data.csv\", index_col=False)\r\n",
    "# physiological name\r\n",
    "physio_name = [\r\n",
    "    'heartrate', 'respiration', 'noninvasivesystolic', 'noninvasivediastolic', 'noninvasivemean'\r\n",
    "]\r\n",
    "# lab name\r\n",
    "lab_name = [\r\n",
    "    'paO2_FiO2', 'platelets_x_1000', 'total_bilirubin',\r\n",
    "    'urinary_creatinine', 'creatinine', 'HCO3', 'pH', 'paCO2',\r\n",
    "    'direct_bilirubin', 'excess', 'ast', 'bun', 'calcium', 'glucose',\r\n",
    "    'lactate', 'magnesium', 'phosphate', 'potassium', 'hct', 'hgb', 'ptt',\r\n",
    "    'wbc', 'fibrinogen', 'troponin', 'GCS_Score', 'ventilator'\r\n",
    "]\r\n",
    "# for each patient, same step\r\n",
    "for p_id in all_id:\r\n",
    "    # load data\r\n",
    "    patient_data = pd.read_csv(\r\n",
    "        data_dir + \"processed_data/2_6_h/{}.csv\".format(p_id),\r\n",
    "        index_col=False\r\n",
    "    )\r\n",
    "    # timestamps for sepsis and nonsep patients\r\n",
    "    if p_id in sepsis_id:\r\n",
    "        timestamps = [0, -5, -10, -15, -20, -25, -30]\r\n",
    "    else:\r\n",
    "        timestamps = [0, -50, -100, -150, -200, -250, -300]\r\n",
    "    # sample at multiple timestamps\r\n",
    "    for t in timestamps:\r\n",
    "        # feature\r\n",
    "        feature = {}\r\n",
    "        # for each vital\r\n",
    "        for c in physio_name:\r\n",
    "            for window in [15, 30, 60]:\r\n",
    "                # data within window\r\n",
    "                window_data = patient_data.loc[\r\n",
    "                    (patient_data['offset'] <= 0 + t) & (patient_data['offset'] >= -window + t), c\r\n",
    "                ]\r\n",
    "                # extract feature\r\n",
    "                # mean\r\n",
    "                feature['{}-{}-mean'.format(c, window)] = window_data.mean()\r\n",
    "                # max\r\n",
    "                feature['{}-{}-max'.format(c, window)] = window_data.max()\r\n",
    "                # min\r\n",
    "                feature['{}-{}-min'.format(c, window)] = window_data.min()\r\n",
    "                # std\r\n",
    "                feature['{}-{}-std'.format(c, window)] = window_data.std()\r\n",
    "                # kurtosis\r\n",
    "                feature['{}-{}-kurt'.format(c, window)] = window_data.kurtosis()\r\n",
    "                # skewness\r\n",
    "                feature['{}-{}-skew'.format(c, window)] = window_data.skew()\r\n",
    "                # slope\r\n",
    "                feature['{}-{}-slope'.format(c, window)] = st.linregress(\r\n",
    "                    range(-window, 5, 5), window_data.values\r\n",
    "                )[0]\r\n",
    "        # add lab data\r\n",
    "        for l in lab_name:\r\n",
    "            feature[l] = patient_data.loc[patient_data['offset'] == 0, l].values[0]\r\n",
    "        # add patient id\r\n",
    "        feature['patientunitstayid'] = int(p_id)\r\n",
    "        # add label\r\n",
    "        feature['label'] = 1 if p_id in sepsis_id else 0\r\n",
    "        # append data\r\n",
    "        feature_data = feature_data.append(feature, ignore_index=True)"
   ],
   "outputs": [],
   "metadata": {
    "tags": [
     "outputPrepend"
    ]
   }
  },
  {
   "cell_type": "code",
   "execution_count": null,
   "source": [
    "feature_data.shape"
   ],
   "outputs": [],
   "metadata": {}
  },
  {
   "cell_type": "code",
   "execution_count": null,
   "source": [
    "feature_data.loc[feature_data['label'] == 0].shape"
   ],
   "outputs": [],
   "metadata": {}
  },
  {
   "cell_type": "code",
   "execution_count": null,
   "source": [
    "feature_data = feature_data.fillna(0)\r\n",
    "feature_data.to_csv(\"processed_data/3_train/with_var/train_data.csv\", index=False)"
   ],
   "outputs": [],
   "metadata": {}
  },
  {
   "cell_type": "code",
   "execution_count": null,
   "source": [
    "# =============================== Test data, feature for 12 h ================================"
   ],
   "outputs": [],
   "metadata": {}
  },
  {
   "cell_type": "code",
   "execution_count": null,
   "source": [
    "# use 12 h data, which contain the most patients\r\n",
    "# load patient ID\r\n",
    "separate_id = pickle.load(open(\r\n",
    "    data_dir + \"/processed_data/ids/12h_ID.pickle\", \"rb\"\r\n",
    "))\r\n",
    "sepsis_id, nonsep_id = separate_id['sepsis'], separate_id['nonsep']\r\n",
    "# combine id\r\n",
    "all_id = sepsis_id + nonsep_id"
   ],
   "outputs": [],
   "metadata": {}
  },
  {
   "cell_type": "code",
   "execution_count": null,
   "source": [
    "# physiological name\r\n",
    "physio_name = [\r\n",
    "    'heartrate', 'respiration', 'noninvasivesystolic', 'noninvasivediastolic', 'noninvasivemean'\r\n",
    "]\r\n",
    "# lab name\r\n",
    "lab_name = [\r\n",
    "    'paO2_FiO2', 'platelets_x_1000', 'total_bilirubin',\r\n",
    "    'urinary_creatinine', 'creatinine', 'HCO3', 'pH', 'paCO2',\r\n",
    "    'direct_bilirubin', 'excess', 'ast', 'bun', 'calcium', 'glucose',\r\n",
    "    'lactate', 'magnesium', 'phosphate', 'potassium', 'hct', 'hgb', 'ptt',\r\n",
    "    'wbc', 'fibrinogen', 'troponin', 'GCS_Score', 'ventilator'\r\n",
    "]\r\n",
    "# for each patient, same step\r\n",
    "for p_id in all_id:\r\n",
    "    # load data\r\n",
    "    patient_data = pd.read_csv(\r\n",
    "        data_dir + \"processed_data/2_12_h/{}.csv\".format(p_id),\r\n",
    "        index_col=False\r\n",
    "    )\r\n",
    "    # empty dataframe\r\n",
    "    feature_data = pd.DataFrame()\r\n",
    "    # for each time stamp\r\n",
    "    for t in range(-660, 5, 5):\r\n",
    "        # feature\r\n",
    "        feature = {}\r\n",
    "        # for each vital\r\n",
    "        for c in physio_name:\r\n",
    "            for window in [15, 30, 60]:\r\n",
    "                # data within window\r\n",
    "                window_data = patient_data.loc[\r\n",
    "                    (patient_data['offset'] <= 0 + t) &\\\r\n",
    "                    (patient_data['offset'] >= -window + t), c\r\n",
    "                ]\r\n",
    "                # extract feature\r\n",
    "                # mean\r\n",
    "                feature['{}-{}-mean'.format(c, window)] = window_data.mean()\r\n",
    "                # max\r\n",
    "                feature['{}-{}-max'.format(c, window)] = window_data.max()\r\n",
    "                # min\r\n",
    "                feature['{}-{}-min'.format(c, window)] = window_data.min()\r\n",
    "                # std\r\n",
    "                feature['{}-{}-std'.format(c, window)] = window_data.std()\r\n",
    "                # kurtosis\r\n",
    "                feature['{}-{}-kurt'.format(c, window)] = window_data.kurtosis()\r\n",
    "                # skewness\r\n",
    "                feature['{}-{}-skew'.format(c, window)] = window_data.skew()\r\n",
    "                # slope\r\n",
    "                feature['{}-{}-slope'.format(c, window)] = st.linregress(\r\n",
    "                    range(-window, 5, 5), window_data.values\r\n",
    "                )[0]\r\n",
    "        # add lab data\r\n",
    "        for l in lab_name:\r\n",
    "            feature[l] = patient_data.loc[patient_data['offset'] == 0, l].values[0]\r\n",
    "        # add patient id\r\n",
    "        feature['patientunitstayid'] = int(p_id)\r\n",
    "        # add label\r\n",
    "        feature['label'] = 1 if p_id in sepsis_id and t == 0 else 0\r\n",
    "        # add time\r\n",
    "        feature['offset'] = t\r\n",
    "        # append data\r\n",
    "        feature_data = feature_data.append(feature, ignore_index=True)\r\n",
    "    feature_data = feature_data.fillna(0)\r\n",
    "    feature_data.to_csv(\"processed_data/3_12h_feature/{}.csv\".format(p_id), index=False)"
   ],
   "outputs": [],
   "metadata": {
    "tags": [
     "outputPrepend"
    ]
   }
  },
  {
   "cell_type": "code",
   "execution_count": null,
   "source": [],
   "outputs": [],
   "metadata": {}
  },
  {
   "cell_type": "code",
   "execution_count": null,
   "source": [],
   "outputs": [],
   "metadata": {}
  },
  {
   "cell_type": "code",
   "execution_count": null,
   "source": [],
   "outputs": [],
   "metadata": {}
  }
 ]
}