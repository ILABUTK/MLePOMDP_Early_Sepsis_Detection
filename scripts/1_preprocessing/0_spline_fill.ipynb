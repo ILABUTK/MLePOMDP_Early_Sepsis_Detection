{
 "metadata": {
  "language_info": {
   "codemirror_mode": {
    "name": "ipython",
    "version": 3
   },
   "file_extension": ".py",
   "mimetype": "text/x-python",
   "name": "python",
   "nbconvert_exporter": "python",
   "pygments_lexer": "ipython3",
   "version": "3.9.1-final"
  },
  "orig_nbformat": 2,
  "kernelspec": {
   "name": "python3",
   "display_name": "Python 3.9.1 64-bit",
   "metadata": {
    "interpreter": {
     "hash": "ac59ebe37160ed0dfa835113d9b8498d9f09ceb179beaac4002f036b9467c963"
    }
   }
  }
 },
 "nbformat": 4,
 "nbformat_minor": 2,
 "cells": [
  {
   "cell_type": "code",
   "execution_count": null,
   "source": [
    "# Use spline to fill lab data as well as non-invasive BP."
   ],
   "outputs": [],
   "metadata": {}
  },
  {
   "cell_type": "code",
   "execution_count": 1,
   "source": [
    "# import\r\n",
    "import pickle\r\n",
    "import numpy as np\r\n",
    "import pandas as pd\r\n",
    "from scipy import interpolate"
   ],
   "outputs": [],
   "metadata": {}
  },
  {
   "cell_type": "code",
   "execution_count": 2,
   "source": [
    "# data diectory, modify before use\r\n",
    "data_dir = \"scripts/0_sepsis_ground_truth/full_data\""
   ],
   "outputs": [],
   "metadata": {}
  },
  {
   "cell_type": "code",
   "execution_count": 3,
   "source": [
    "# patient id\r\n",
    "separate_id = pickle.load(open(\r\n",
    "    data_dir + \"Final_ID.pickle\",\r\n",
    "    \"rb\"\r\n",
    "))\r\n",
    "nonsep_id, sepsis_id = separate_id['nonsep'], separate_id['sepsis']\r\n",
    "all_id = nonsep_id + sepsis_id"
   ],
   "outputs": [],
   "metadata": {}
  },
  {
   "cell_type": "code",
   "execution_count": 4,
   "source": [
    "interp_list = [\r\n",
    "    'paO2_FiO2', 'platelets_x_1000', 'total_bilirubin', 'urinary_creatinine', \r\n",
    "    'creatinine', 'HCO3', 'pH', 'paCO2', 'direct_bilirubin', 'excess', 'ast', 'bun',\r\n",
    "    'calcium', 'glucose', 'lactate', 'magnesium', 'phosphate', 'potassium', 'hct',\r\n",
    "    'hgb', 'ptt', 'wbc', 'fibrinogen', 'troponin', 'GCS_Score', 'noninvasivesystolic',\r\n",
    "    'noninvasivediastolic', 'noninvasivemean'\r\n",
    "]"
   ],
   "outputs": [],
   "metadata": {}
  },
  {
   "cell_type": "code",
   "execution_count": 5,
   "source": [
    "# do this for each patient\r\n",
    "i = 0\r\n",
    "for p_id in all_id:\r\n",
    "    # progress\r\n",
    "    if i == int(len(all_id) * 0.1):\r\n",
    "        print(\"10% done.\")\r\n",
    "    if i == int(len(all_id) * 0.25):\r\n",
    "        print(\"25% done.\")\r\n",
    "    if i == int(len(all_id) * 0.5):\r\n",
    "        print(\"50% done.\")\r\n",
    "    if i == int(len(all_id) * 0.75):\r\n",
    "        print(\"75% done.\")\r\n",
    "    if i == int(len(all_id) * 0.9):\r\n",
    "        print(\"90% done.\")\r\n",
    "    # load data\r\n",
    "    patient_data = pd.read_csv(data_dir + \"full_data/{}.csv\".format(p_id), index_col=0)\r\n",
    "    # check the completeness of each column and interpolate.\r\n",
    "    # DO NOT fill vitals so that the Nan values can be used to sample with equal timestamp (5 min)\r\n",
    "    for c in interp_list:\r\n",
    "        # interpolate points\r\n",
    "        int_points = patient_data['offset'].loc[patient_data[c].notna()]\r\n",
    "        # not all nan\r\n",
    "        if int_points.shape[0] >= 1:\r\n",
    "            kind = \"slinear\" if int_points.shape[0] >= 2 else \"zero\"\r\n",
    "            # interpolation function\r\n",
    "            f = interpolate.interp1d(\r\n",
    "                int_points,\r\n",
    "                patient_data[c].loc[patient_data[c].notna()],\r\n",
    "                kind=kind\r\n",
    "            )\r\n",
    "            # points on horizon\r\n",
    "            x_new = patient_data['offset'].loc[\r\n",
    "                (patient_data['offset'] <= int_points.max()) &\\\r\n",
    "                (patient_data['offset'] >= int_points.min())\r\n",
    "            ]\r\n",
    "            # interpolatio results\r\n",
    "            y_new = f(x_new)\r\n",
    "            # replace values in dataframe\r\n",
    "            patient_data[c].loc[\r\n",
    "                (patient_data['offset'] <= int_points.max()) &\\\r\n",
    "                (patient_data['offset'] >= int_points.min())\r\n",
    "            ] = y_new\r\n",
    "            # forwar / backward fill, exclude vitals\r\n",
    "            if 'noninvasive' not in c:\r\n",
    "                patient_data[c] = patient_data[c].fillna(method=\"ffill\")\r\n",
    "                patient_data[c] = patient_data[c].fillna(method=\"bfill\")\r\n",
    "    # ventilator\r\n",
    "    patient_data = patient_data.rename({'nursingchartvalue': 'ventilator'}, axis=1)\r\n",
    "    for j in range(patient_data.shape[0]):\r\n",
    "        if patient_data['ventilator'].iloc[j] == 'ventilator':\r\n",
    "            patient_data['ventilator'].iloc[j] = 1\r\n",
    "        else:\r\n",
    "            patient_data['ventilator'].iloc[j] = np.nan\r\n",
    "    # forward fill\r\n",
    "    patient_data['ventilator'] = patient_data['ventilator'].fillna(method=\"ffill\")\r\n",
    "    # fill with 0\r\n",
    "    patient_data['ventilator'] = patient_data['ventilator'].fillna(value=0)\r\n",
    "    # save data\r\n",
    "    patient_data.to_csv(\"processed_data/0_filled_lab/{}.csv\".format(p_id), index=False)\r\n",
    "    i += 1\r\n"
   ],
   "outputs": [
    {
     "output_type": "stream",
     "name": "stdout",
     "text": [
      "10% done.\n",
      "25% done.\n",
      "50% done.\n",
      "75% done.\n",
      "90% done.\n"
     ]
    }
   ],
   "metadata": {
    "tags": []
   }
  },
  {
   "cell_type": "code",
   "execution_count": null,
   "source": [],
   "outputs": [],
   "metadata": {}
  },
  {
   "cell_type": "code",
   "execution_count": null,
   "source": [],
   "outputs": [],
   "metadata": {}
  }
 ]
}